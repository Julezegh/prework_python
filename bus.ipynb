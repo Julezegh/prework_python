{
  "nbformat": 4,
  "nbformat_minor": 0,
  "metadata": {
    "colab": {
      "name": "bus.ipynb",
      "version": "0.3.2",
      "provenance": []
    },
    "language_info": {
      "codemirror_mode": {
        "name": "ipython",
        "version": 3
      },
      "file_extension": ".py",
      "mimetype": "text/x-python",
      "name": "python",
      "nbconvert_exporter": "python",
      "pygments_lexer": "ipython3",
      "version": "3.7.2"
    },
    "kernelspec": {
      "display_name": "Python 3",
      "language": "python",
      "name": "python3"
    }
  },
  "cells": [
    {
      "cell_type": "markdown",
      "metadata": {
        "id": "NSVxfEgmUrER",
        "colab_type": "text"
      },
      "source": [
        "# Bus\n",
        "\n",
        "This bus has a passenger entry and exit control system to monitor the number of occupants it carries and thus detect when there is too high a capacity.\n",
        "\n",
        "At each stop the entry and exit of passengers is represented by a tuple consisting of two integer numbers.\n",
        "```\n",
        "bus_stop = (in, out)\n",
        "```\n",
        "The succession of stops is represented by a list of these tuples.\n",
        "```\n",
        "stops = [(in1, out1), (in2, out2), (in3, out3), (in4, out4)]\n",
        "```\n",
        "\n",
        "## Goals:\n",
        "* lists, tuples\n",
        "* while/for loops\n",
        "* minimum, maximum, length\n",
        "* average, standard deviation\n",
        "\n",
        "## Tasks\n",
        "1. Calculate the number of stops.\n",
        "2. Assign to a variable a list whose elements are the number of passengers at each stop (in-out),\n",
        "3. Find the maximum occupation of the bus.\n",
        "4. Calculate the average occupation. And the standard deviation.\n"
      ]
    },
    {
      "cell_type": "code",
      "metadata": {
        "id": "ByyAi1csUrES",
        "colab_type": "code",
        "colab": {}
      },
      "source": [
        "# variables\n",
        "stops = [(36, 0), (1, 8), (5, 4), (9, 12)]"
      ],
      "execution_count": 0,
      "outputs": []
    },
    {
      "cell_type": "code",
      "metadata": {
        "id": "jPZ3Lan2UrEX",
        "colab_type": "code",
        "outputId": "e98d531f-5e04-4fe6-cb99-c88b8c36fc38",
        "colab": {
          "base_uri": "https://localhost:8080/",
          "height": 34
        }
      },
      "source": [
        "# 1. Calculate the number of stops.\n",
        "\n",
        "num_stops = len(stops)\n",
        "print(num_stops)"
      ],
      "execution_count": 0,
      "outputs": [
        {
          "output_type": "stream",
          "text": [
            "4\n"
          ],
          "name": "stdout"
        }
      ]
    },
    {
      "cell_type": "code",
      "metadata": {
        "id": "GSMLyG-iUrEa",
        "colab_type": "code",
        "outputId": "6159dfc3-3f7c-4c78-8ce2-bce4194236e2",
        "colab": {
          "base_uri": "https://localhost:8080/",
          "height": 34
        }
      },
      "source": [
        "# 2. Assign a variable a list whose elements are the number of passengers in each stop: \n",
        "# Each item depends on the previous item in the list + in - out.\n",
        "\n",
        "list_pass = [0]\n",
        "for i in range(len(stops)):\n",
        "  num_pass = list_pass[i] + stops[i][0] - stops[i][1]\n",
        "  list_pass.append(num_pass)\n",
        "\n",
        "print(list_pass)\n",
        "\n"
      ],
      "execution_count": 0,
      "outputs": [
        {
          "output_type": "stream",
          "text": [
            "[0, 36, 29, 30, 27]\n"
          ],
          "name": "stdout"
        }
      ]
    },
    {
      "cell_type": "code",
      "metadata": {
        "id": "SiNzXW_3UrEd",
        "colab_type": "code",
        "outputId": "81d47729-cfb1-4096-c57a-9f5e3bbdb9d4",
        "colab": {
          "base_uri": "https://localhost:8080/",
          "height": 34
        }
      },
      "source": [
        "# 3. Find the maximum occupation of the bus.\n",
        "\n",
        "print(max(list_pass))"
      ],
      "execution_count": 0,
      "outputs": [
        {
          "output_type": "stream",
          "text": [
            "36\n"
          ],
          "name": "stdout"
        }
      ]
    },
    {
      "cell_type": "code",
      "metadata": {
        "id": "54zZDghVUrEf",
        "colab_type": "code",
        "outputId": "eea231f2-7485-4541-d80e-0ce04fdd583f",
        "colab": {
          "base_uri": "https://localhost:8080/",
          "height": 68
        }
      },
      "source": [
        "# 4. Calculate the average occupation. And the standard deviation.\n",
        "\n",
        "print(sum(list_pass)/len(list_pass))\n",
        "print(int((sum(list_pass)/len(list_pass))))\n",
        "\n",
        "import statistics\n",
        "print(statistics.stdev(list_pass))"
      ],
      "execution_count": 0,
      "outputs": [
        {
          "output_type": "stream",
          "text": [
            "24.4\n",
            "24\n",
            "14.046351839534704\n"
          ],
          "name": "stdout"
        }
      ]
    },
    {
      "cell_type": "code",
      "metadata": {
        "id": "MmVOuoUEUrEi",
        "colab_type": "code",
        "colab": {}
      },
      "source": [
        ""
      ],
      "execution_count": 0,
      "outputs": []
    }
  ]
}