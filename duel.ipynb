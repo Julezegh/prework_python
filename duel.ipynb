{
  "nbformat": 4,
  "nbformat_minor": 0,
  "metadata": {
    "colab": {
      "name": "duel.ipynb",
      "version": "0.3.2",
      "provenance": []
    },
    "language_info": {
      "codemirror_mode": {
        "name": "ipython",
        "version": 3
      },
      "file_extension": ".py",
      "mimetype": "text/x-python",
      "name": "python",
      "nbconvert_exporter": "python",
      "pygments_lexer": "ipython3",
      "version": "3.6.7"
    },
    "kernelspec": {
      "display_name": "Python 3",
      "language": "python",
      "name": "python3"
    }
  },
  "cells": [
    {
      "cell_type": "markdown",
      "metadata": {
        "id": "IaqoovTrPpFR",
        "colab_type": "text"
      },
      "source": [
        "# Duel of sorcerers\n",
        "You are witnessing an epic battle between two powerful sorcerers: Gandalf and Saruman. Each sorcerer has 10 spells of variable power in their mind and they are going to throw them one after the other. The winner of the duel will be the one who wins more of those clashes between spells. Spells are represented as a list of 10 integers whose value equals the power of the spell.\n",
        "```\n",
        "gandalf = [10, 11, 13, 30, 22, 11, 10, 33, 22, 22]\n",
        "saruman = [23, 66, 12, 43, 12, 10, 44, 23, 12, 17]\n",
        "```\n",
        "For example:\n",
        "1. The first clash is won by Saruman: 10 against 23, wins 23\n",
        "2. The second clash wins Saruman: 11 against 66, wins 66\n",
        "3. etc.\n",
        "\n",
        "\n",
        "You will create two variables, one for each sorcerer, where the sum of clashes won will be stored. Depending on which variable is greater at the end of the duel, you will show one of the following three results on the screen:\n",
        "* Gandalf wins\n",
        "* Saruman wins\n",
        "* Tie\n",
        "\n",
        "<img src=\"images/content_lightning_bolt_big.jpg\" width=\"400\">"
      ]
    },
    {
      "cell_type": "markdown",
      "metadata": {
        "id": "piUx3rJXPpFS",
        "colab_type": "text"
      },
      "source": [
        "## Solution"
      ]
    },
    {
      "cell_type": "code",
      "metadata": {
        "id": "yxH_hTmvPpFT",
        "colab_type": "code",
        "colab": {}
      },
      "source": [
        "# Assign spell power lists to variables\n",
        "\n",
        "gandalf = [10, 11, 13, 30, 22, 11, 10, 33, 22, 22]\n",
        "saruman = [23, 66, 12, 43, 12, 10, 44, 23, 12, 17]"
      ],
      "execution_count": 0,
      "outputs": []
    },
    {
      "cell_type": "code",
      "metadata": {
        "id": "YR6aelbnPpFY",
        "colab_type": "code",
        "colab": {}
      },
      "source": [
        "# Assign 0 to each variable that stores the victories\n",
        "gandalf_victories = 0\n",
        "saruman_victories = 0\n"
      ],
      "execution_count": 0,
      "outputs": []
    },
    {
      "cell_type": "code",
      "metadata": {
        "id": "s47t-2LMPpFb",
        "colab_type": "code",
        "colab": {}
      },
      "source": [
        "# Execution of spell clashes\n",
        "for i in range(len(gandalf)):\n",
        "  if gandalf[i]>saruman[i]:\n",
        "    gandalf_victories += 1\n",
        "  elif saruman[i]>gandalf[i]:\n",
        "    saruman_victories += 1\n",
        "  else:\n",
        "    saruman_victories += 0\n",
        "    gandalf_victories += 0\n",
        " \n",
        "  "
      ],
      "execution_count": 0,
      "outputs": []
    },
    {
      "cell_type": "code",
      "metadata": {
        "id": "t1teG8UuPpFf",
        "colab_type": "code",
        "outputId": "243eec01-f1e4-46e2-b43c-3b47efc66dea",
        "colab": {
          "base_uri": "https://localhost:8080/",
          "height": 34
        }
      },
      "source": [
        "# We check who has won, do not forget the possibility of a draw.\n",
        "# Print the result based on the winner.\n",
        "if gandalf_victories>saruman_victories:\n",
        "  print(\"Gandalf won\")\n",
        "elif gandalf_victories<saruman_victories: \n",
        "  print(\"Saruman won\")\n",
        "else:\n",
        "  print(\"Tie\")\n"
      ],
      "execution_count": 0,
      "outputs": [
        {
          "output_type": "stream",
          "text": [
            "Gandalf won\n"
          ],
          "name": "stdout"
        }
      ]
    },
    {
      "cell_type": "markdown",
      "metadata": {
        "id": "zRjpuyQSPpFi",
        "colab_type": "text"
      },
      "source": [
        "## Goals\n",
        "\n",
        "1. Treatment of lists\n",
        "2. Use of **for loop**\n",
        "3. Use of conditional **if-elif-else**\n",
        "4. Use of the functions **range(), len()**\n",
        "5. Print"
      ]
    },
    {
      "cell_type": "markdown",
      "metadata": {
        "id": "EfZFUPsYPpFj",
        "colab_type": "text"
      },
      "source": [
        "## Bonus\n",
        "\n",
        "1. Spells now have a name and there is a dictionary that relates that name to a power.\n",
        "2. A sorcerer wins if he succeeds in winning 3 spell clashes in a row.\n",
        "3. Average of each of the spell lists.\n",
        "4. Standard deviation of each of the spell lists.\n",
        "\n",
        "```\n",
        "POWER = {\n",
        "    'Fireball': 50, \n",
        "    'Lightning bolt': 40, \n",
        "    'Magic arrow': 10, \n",
        "    'Black Tentacles': 25, \n",
        "    'Contagion': 45\n",
        "}\n",
        "\n",
        "gandalf = ['Fireball', 'Lightning bolt', 'Lightning bolt', 'Magic arrow', 'Fireball', \n",
        "           'Magic arrow', 'Lightning bolt', 'Fireball', 'Fireball', 'Fireball']\n",
        "saruman = ['Contagion', 'Contagion', 'Black Tentacles', 'Fireball', 'Black Tentacles', \n",
        "           'Lightning bolt', 'Magic arrow', 'Contagion', 'Magic arrow', 'Magic arrow']\n",
        "```\n",
        "\n",
        "Good luck!"
      ]
    },
    {
      "cell_type": "code",
      "metadata": {
        "id": "YxvvTKJvPpFk",
        "colab_type": "code",
        "colab": {}
      },
      "source": [
        "# 1. Spells now have a name and there is a dictionary that relates that name to a power.\n",
        "# variables\n",
        "\n",
        "POWER = {\n",
        "    'Fireball': 50, \n",
        "    'Lightning bolt': 40, \n",
        "    'Magic arrow': 10, \n",
        "    'Black Tentacles': 25, \n",
        "    'Contagion': 45\n",
        "}\n",
        "\n",
        "gandalf = ['Fireball', 'Lightning bolt', 'Lightning bolt', 'Magic arrow', 'Fireball', \n",
        "           'Magic arrow', 'Lightning bolt', 'Fireball', 'Magic arrow', 'Fireball']\n",
        "saruman = ['Contagion', 'Contagion', 'Black Tentacles', 'Fireball', 'Black Tentacles', \n",
        "           'Lightning bolt', 'Magic arrow', 'Contagion', 'Magic arrow', 'Magic arrow']"
      ],
      "execution_count": 0,
      "outputs": []
    },
    {
      "cell_type": "code",
      "metadata": {
        "id": "wwc-oDWsPpFn",
        "colab_type": "code",
        "colab": {}
      },
      "source": [
        "# Assign spell power lists to variables\n",
        "\n"
      ],
      "execution_count": 0,
      "outputs": []
    },
    {
      "cell_type": "code",
      "metadata": {
        "id": "e2F0auXVPpFq",
        "colab_type": "code",
        "colab": {}
      },
      "source": [
        "# 2. A sorcerer wins if he succeeds in winning 3 spell clashes in a row.\n",
        "\n",
        "\n",
        "# Execution of spell clashes\n",
        "\n",
        "\n",
        "\n",
        "# check for 3 wins in a row\n",
        "\n",
        "\n",
        "# check the winner\n"
      ],
      "execution_count": 0,
      "outputs": []
    },
    {
      "cell_type": "code",
      "metadata": {
        "id": "qu-ixY6LPpFt",
        "colab_type": "code",
        "colab": {}
      },
      "source": [
        "# 3. Average of each of the spell lists.\n",
        "\n"
      ],
      "execution_count": 0,
      "outputs": []
    },
    {
      "cell_type": "code",
      "metadata": {
        "id": "MSS2GMy5PpFx",
        "colab_type": "code",
        "colab": {}
      },
      "source": [
        "# 4. Standard deviation of each of the spell lists.\n",
        "\n"
      ],
      "execution_count": 0,
      "outputs": []
    },
    {
      "cell_type": "code",
      "metadata": {
        "id": "qrQT8n0CPpF1",
        "colab_type": "code",
        "colab": {}
      },
      "source": [
        ""
      ],
      "execution_count": 0,
      "outputs": []
    }
  ]
}