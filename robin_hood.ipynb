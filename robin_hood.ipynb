{
  "nbformat": 4,
  "nbformat_minor": 0,
  "metadata": {
    "colab": {
      "name": "robin-hood.ipynb",
      "version": "0.3.2",
      "provenance": []
    },
    "language_info": {
      "codemirror_mode": {
        "name": "ipython",
        "version": 3
      },
      "file_extension": ".py",
      "mimetype": "text/x-python",
      "name": "python",
      "nbconvert_exporter": "python",
      "pygments_lexer": "ipython3",
      "version": "3.7.2"
    },
    "kernelspec": {
      "display_name": "Python 3",
      "language": "python",
      "name": "python3"
    }
  },
  "cells": [
    {
      "cell_type": "markdown",
      "metadata": {
        "id": "OcPLJEFI0AP8",
        "colab_type": "text"
      },
      "source": [
        "# Robin Hood:\n",
        "We are in a competition to win the archery contest in Sherwood. With our bow and arrows we shoot on a target and try to hit as close as possible to the center.\n",
        "\n",
        "The center of the target is represented by the values (0, 0) on the coordinate axes.\n",
        "\n",
        "![](images/arrows.jpg)\n",
        "\n",
        "## Goals:\n",
        "* data structures: lists, sets, tuples\n",
        "* logical operators: if-elif-else\n",
        "* loop: while/for\n",
        "* minimum (optional sorting)\n",
        "\n",
        "## Description:\n",
        "In the 2-dimensional space, a point can be defined by a pair of values that correspond to the horizontal coordinate (x) and the vertical coordinate (y). The space can be divided into 4 zones (quadrants): Q1, Q2, Q3, Q4. Whose single point of union is the point (0, 0).\n",
        "\n",
        "If a point is in Q1 both its x coordinate and the y are positive. I leave a link to wikipedia to familiarize yourself with these quadrants.\n",
        "\n",
        "https://en.wikipedia.org/wiki/Cartesian_coordinate_system\n",
        "\n",
        "https://en.wikipedia.org/wiki/Euclidean_distance\n",
        "\n",
        "## Shots\n",
        "```\n",
        "points = [(4, 5), (-0, 2), (4, 7), (1, -3), (3, -2), (4, 5),\n",
        "          (3, 2), (5, 7), (-5, 7), (2, 2), (-4, 5), (0, -2),\n",
        "          (-4, 7), (-1, 3), (-3, 2), (-4, -5), (-3, 2),\n",
        "          (5, 7), (5, 7), (2, 2), (9, 9), (-8, -9)]\n",
        "```\n",
        "\n",
        "## Tasks\n",
        "1. Robin Hood is famous for hitting an arrow with another arrow. Did you get it?\n",
        "2. Calculate how many arrows have fallen in each quadrant.\n",
        "3. Find the point closest to the center. Calculate its distance to the center. \n",
        "4. If the target has a radius of 9, calculate the number of arrows that must be picked up in the forest."
      ]
    },
    {
      "cell_type": "code",
      "metadata": {
        "id": "rrAz22w30AP-",
        "colab_type": "code",
        "colab": {}
      },
      "source": [
        "# Variables\n",
        "\n",
        "points = [(4, 5), (-0, 2), (4, 7), (1, -3), (3, -2), (4, 5),\n",
        "          (3, 2), (5, 7), (-5, 7), (2, 2), (-4, 5), (0, -2),\n",
        "          (-4, 7), (-1, 3), (-3, 2), (-4, -5), (-3, 2),\n",
        "          (5, 7), (5, 7), (2, 2), (9, 9), (-8, -9)]"
      ],
      "execution_count": 0,
      "outputs": []
    },
    {
      "cell_type": "code",
      "metadata": {
        "id": "2p-6N1vZ0AQD",
        "colab_type": "code",
        "outputId": "98c6c057-1ad4-4485-d6d2-5e4fc9e18387",
        "colab": {
          "base_uri": "https://localhost:8080/",
          "height": 34
        }
      },
      "source": [
        "# 1. Robin Hood is famous for hitting an arrow with another arrow. Did you get it?\n",
        "if len(points) > len(set(points)):\n",
        "  print(\"yes, Robin uses to hit an arrow with another one\")\n"
      ],
      "execution_count": 0,
      "outputs": [
        {
          "output_type": "stream",
          "text": [
            "yes, Robin uses to hit an arrow with another one\n"
          ],
          "name": "stdout"
        }
      ]
    },
    {
      "cell_type": "code",
      "metadata": {
        "id": "cPbs_7af0AQG",
        "colab_type": "code",
        "outputId": "cc46e9ba-3489-4d3c-88dd-4d33a86edcf1",
        "colab": {
          "base_uri": "https://localhost:8080/",
          "height": 85
        }
      },
      "source": [
        "# 2. Calculate how many arrows have fallen in each quadrant.\n",
        "\n",
        "Q1 = 0\n",
        "Q2 = 0\n",
        "Q3 = 0\n",
        "Q4 = 0\n",
        "\n",
        "for i in range(len(points)):\n",
        "  if points[i][0]>0 and points[i][1]>0:\n",
        "    Q1 += 1\n",
        "  elif points[i][0]>0 and points[i][1]<0:  \n",
        "    Q2 += 1\n",
        "  elif points[i][0]<0 and points[i][1]<0:  \n",
        "    Q3 += 1 \n",
        "  elif points[i][0]<0 and points[i][1]>0:  \n",
        "    Q4 += 1   \n",
        "    \n",
        "print(\"Q1 =\", Q1)\n",
        "print(\"Q2 =\", Q2)\n",
        "print(\"Q3 =\", Q3)\n",
        "print(\"Q4 =\", Q4)"
      ],
      "execution_count": 0,
      "outputs": [
        {
          "output_type": "stream",
          "text": [
            "Q1 = 10\n",
            "Q2 = 2\n",
            "Q3 = 2\n",
            "Q4 = 6\n"
          ],
          "name": "stdout"
        }
      ]
    },
    {
      "cell_type": "code",
      "metadata": {
        "id": "eCHvEisn0AQJ",
        "colab_type": "code",
        "outputId": "b7e693ee-e85a-4c4e-d47d-872282f496e7",
        "colab": {
          "base_uri": "https://localhost:8080/",
          "height": 34
        }
      },
      "source": [
        "import numpy as np\n",
        "# 3. Find the point closest to the center. Calculate its distance to the center\n",
        "# Defining a function that calculates the distance to the center can help.\n",
        "def dist_to_center(pt):\n",
        "  return np.sqrt((0-pt[0])**2+(0-pt[1])**2)\n",
        "\n",
        "closest_point = points[0]\n",
        "for i in range(len(points)):\n",
        "  if dist_to_center(points[i])< dist_to_center(closest_point):\n",
        "    closest_point = points[i]\n",
        "    \n",
        "print(\"the closest point is\", closest_point)\n"
      ],
      "execution_count": 0,
      "outputs": [
        {
          "output_type": "stream",
          "text": [
            "the closest point is (0, 2)\n"
          ],
          "name": "stdout"
        }
      ]
    },
    {
      "cell_type": "code",
      "metadata": {
        "id": "HHPZR0-y0AQM",
        "colab_type": "code",
        "colab": {}
      },
      "source": [
        "# 4. If the target has a radius of 9, calculate the number of arrows that \n",
        "# must be picked up in the forest.\n",
        "\n"
      ],
      "execution_count": 0,
      "outputs": []
    },
    {
      "cell_type": "code",
      "metadata": {
        "id": "-aOWVWtd0AQO",
        "colab_type": "code",
        "colab": {}
      },
      "source": [
        ""
      ],
      "execution_count": 0,
      "outputs": []
    }
  ]
}