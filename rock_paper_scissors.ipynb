{
  "nbformat": 4,
  "nbformat_minor": 0,
  "metadata": {
    "colab": {
      "name": "rock-paper-scissors.ipynb",
      "version": "0.3.2",
      "provenance": []
    },
    "language_info": {
      "codemirror_mode": {
        "name": "ipython",
        "version": 3
      },
      "file_extension": ".py",
      "mimetype": "text/x-python",
      "name": "python",
      "nbconvert_exporter": "python",
      "pygments_lexer": "ipython3",
      "version": "3.6.7"
    },
    "kernelspec": {
      "display_name": "Python 3",
      "language": "python",
      "name": "python3"
    }
  },
  "cells": [
    {
      "cell_type": "markdown",
      "metadata": {
        "id": "GmE_7AcRl2bH",
        "colab_type": "text"
      },
      "source": [
        "# Rock Paper Scissors\n",
        "\n",
        "Let's play the famous game against our computer.\n",
        "\n",
        "https://en.wikipedia.org/wiki/Rock%E2%80%93paper%E2%80%93scissors\n",
        "\n",
        "The use of functions is recommended\n",
        "\n",
        "## Goals\n",
        "1. Use of loop\n",
        "2. Data capture by console\n",
        "3. Use if-elif-else\n",
        "4. Use of try-except\n",
        "5. Definition of functions. Modular programming\n",
        "6. Logical operators.\n",
        "7. Print\n",
        "8. Import modules"
      ]
    },
    {
      "cell_type": "code",
      "metadata": {
        "id": "kbAPQsYBl2bK",
        "colab_type": "code",
        "colab": {}
      },
      "source": [
        "# Import the choice function of the random module\n",
        "# https://stackoverflow.com/questions/306400/how-to-randomly-select-an-item-from-a-list\n",
        "\n",
        "import random\n",
        "\n",
        "random.choice\n",
        "\n",
        "# Assign to a list the 3 possible options: 'stone', 'paper' or 'scissors'.\n",
        "RPS = [\"stone\",\"paper\", \"scissors\"]\n",
        "\n",
        "# Assign a variable to the maximum number of games: 1, 3, 5, etc ...\n",
        "max_games = 3\n",
        "\n",
        "# Assign a variable to the number of games a player must win to win.\n",
        "# Preferably the value will be based on the number of maximum games\n",
        "games_to_win = 2\n",
        "\n",
        "# Define a function that randomly returns one of the 3 options.\n",
        "# This will correspond to the play of the machine. Totally random.\n",
        "def machine_play(choice):\n",
        "  return(random.choice(RPS))\n",
        "\n",
        "# Define a function that asks your choice: 'stone', 'paper' or 'scissors'\n",
        "# you should only allow one of the 3 options. This is defensive programming.\n",
        "# If it is not stone, paper or scissors keep asking until it is.\n",
        "def mychoice():\n",
        "  my_play = input(\"what do you play?\")\n",
        "  while my_play not in RPS:\n",
        "    my_play = input(\"what do you play?\")\n",
        "  return my_play\n",
        "  \n",
        "\n",
        "# Define a function that resolves a combat.\n",
        "# Returns 0 if there is a tie, 1 if the machine wins, 2 if the human player wins\n",
        "\n",
        "def win(choice_human, choice_machine):\n",
        "  if choice_human == choice_machine:\n",
        "    return 0\n",
        "  elif choice_human == \"stone\" and choice_machine == \"paper\":\n",
        "    return 1\n",
        "  elif choice_human == \"scissors\" and choice_machine == \"paper\":\n",
        "    return 2\n",
        "   elif choice_human == \"stone\" and choice_machine == \"scissors\":\n",
        "    return 2\n",
        "  elif choice_human == \"paper\" and choice_machine == \"scissors\":\n",
        "    return 1\n",
        "  elif choice_human == \"paper\" and choice_machine == \"stone\":\n",
        "    return 2\n",
        "  elif choice_human == \"scissors\" and choice_machine == \"stone\":\n",
        "    return 1 \n",
        "  \n",
        "  \n",
        "# Define a function that shows the choice of each player and the state of the game\n",
        "# This function should be used every time accumulated points are updated\n",
        "def play(play_human, play_machine):\n",
        "  print(\"the human plays:\", play_human)\n",
        "  print(\"the machine plays:\", play_machine)\n",
        "\n",
        "  if win(play_human, play_machine) == 2:\n",
        "    print(\"the human is winning\")\n",
        "  \n",
        "  if win(play_human, play_machine) == 1:\n",
        "    print(\"the machine is winning\")\n",
        "  \n",
        "   if win(play_human, play_machine) == 0:\n",
        "    print(\"tie\")\n",
        "  \n",
        "# Create two variables that accumulate the wins of each participant\n",
        "wins_human = 0\n",
        "wins_machine = 0\n",
        "\n",
        "# Create a loop that iterates while no player reaches the minimum of wins\n",
        "# necessary to win. Inside the loop solves the play of the\n",
        "# machine and ask the player's. Compare them and update the value of the variables\n",
        "# that accumulate the wins of each participant.\n",
        "\n",
        "\n",
        "    \n",
        "# Print by console the winner of the game based on who has more accumulated wins\n",
        "  "
      ],
      "execution_count": 0,
      "outputs": []
    },
    {
      "cell_type": "markdown",
      "metadata": {
        "id": "KWwgiIHTl2bP",
        "colab_type": "text"
      },
      "source": [
        "# Bonus: Stone, paper, scissors, lizard, spock\n",
        "\n",
        "Now the improvement begins.\n",
        "\n",
        "![](images/rpsls.jpg)\n",
        "\n",
        "\n",
        "http://www.samkass.com/theories/RPSSL.html\n",
        "\n",
        "You are asked to impliment some improvements with respect to the simple previous game. In addition, the number of games (which must be ODD) will be requested per console until a valid number is entered.\n",
        "\n",
        "Improvements:\n",
        "* 5 options: stone, paper, scissors, lizard, spock\n",
        "* The number of games is requested per console\n",
        "Tip: Reuse code that you already use. If you have programmed intelligently, the bonus are simple modifications to the original game."
      ]
    },
    {
      "cell_type": "code",
      "metadata": {
        "id": "pZ3k98ltl2bQ",
        "colab_type": "code",
        "colab": {}
      },
      "source": [
        "# Import the choice function of the random module\n",
        "\n",
        "\n",
        "# Define a function that asks for an odd number on the keyboard, until it is not valid\n",
        "# will keep asking\n",
        "\n",
        "\n",
        "# Assign a list of 5 possible options.\n",
        "\n",
        "\n",
        "# Assign a variable to the maximum number of games: 1, 3, 5, etc ...\n",
        "# This time the previously defined function is used\n",
        "\n",
        "\n",
        "# Assign a variable to the number of games a player must win to win.\n",
        "# Preferably the value will be based on the number of maximum games\n",
        "\n",
        "\n",
        "# Define a function that randomly returns one of the 5 options.\n",
        "# This will correspond to the play of the machine. Totally random.\n",
        "\n",
        "\n",
        "# Define a function that asks your choice between 5\n",
        "# you should only allow one of the 5 options. This is defensive programming.\n",
        "# If it is not valid, keep asking until it is valid.\n",
        "\n",
        "\n",
        "# Define a function that resolves a combat.\n",
        "# Returns 0 if there is a tie, 1 if the machine wins, 2 if the human player wins\n",
        "# Now there are more options\n",
        " \n",
        "\n",
        "    \n",
        "# Define a function that shows the choice of each player and the state of the game\n",
        "# This function should be used every time accumulated points are updated\n",
        "\n",
        "    \n",
        "# Create two variables that accumulate the wins of each participant\n",
        "\n",
        "# Create a loop that iterates while no player reaches the minimum of wins\n",
        "# necessary to win. Inside the loop solves the play of the\n",
        "# machine and ask the player's. Compare them and update the value of the variables\n",
        "# that accumulate the wins of each participant.\n",
        "\n",
        "    \n",
        "    \n",
        "# Print by console the winner of the game based on who has more accumulated wins\n",
        "\n"
      ],
      "execution_count": 0,
      "outputs": []
    },
    {
      "cell_type": "code",
      "metadata": {
        "id": "IlvxUDHsl2bT",
        "colab_type": "code",
        "colab": {}
      },
      "source": [
        "my_play = input(\"what do you play?\")"
      ],
      "execution_count": 0,
      "outputs": []
    },
    {
      "cell_type": "code",
      "metadata": {
        "id": "nbhWyCjLrF1s",
        "colab_type": "code",
        "colab": {}
      },
      "source": [
        "print(my_play)"
      ],
      "execution_count": 0,
      "outputs": []
    },
    {
      "cell_type": "code",
      "metadata": {
        "id": "V63r531OrJQY",
        "colab_type": "code",
        "colab": {}
      },
      "source": [
        ""
      ],
      "execution_count": 0,
      "outputs": []
    }
  ]
}